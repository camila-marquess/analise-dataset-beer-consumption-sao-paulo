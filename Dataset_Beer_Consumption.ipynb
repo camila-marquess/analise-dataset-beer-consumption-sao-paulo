{
  "nbformat": 4,
  "nbformat_minor": 0,
  "metadata": {
    "colab": {
      "name": "Dataset_Beer_Consumption",
      "provenance": [],
      "collapsed_sections": [
        "ea7ffA78eXvk",
        "11Byrl5Ee3Fs",
        "FOSkZidOfaIV",
        "hz7cPXbffh5B",
        "QJWew25OcqgB",
        "Zs098XAyfHSQ",
        "RCRnmgOUy1PY",
        "xErPlrFr0hbc",
        "I1glPQy71piG",
        "H9t5bLZHxOzm",
        "UvDpQgmMxjqE",
        "eCvYunysxzvk",
        "8FuFUz4OyCmd",
        "QJF0hAJb2d_s",
        "2vM-vide4V-q",
        "q5__HTtX-Xl3",
        "t-fyIa8R-_0k",
        "D09TQfCL_GIQ",
        "CZO4UMol_Ojb",
        "c2Al2YT6_UZn",
        "Jybvl3ac_iC1",
        "spKb-HaX_vEY",
        "hawbAbMYA1WX"
      ],
      "mount_file_id": "18xN1yA2frmduEVOPJZowPGRGYwrBnnfT",
      "authorship_tag": "ABX9TyNqZpFhLh9yf1Qg4l1oFq44",
      "include_colab_link": true
    },
    "kernelspec": {
      "name": "python3",
      "display_name": "Python 3"
    }
  },
  "cells": [
    {
      "cell_type": "markdown",
      "metadata": {
        "id": "view-in-github",
        "colab_type": "text"
      },
      "source": [
        "<a href=\"https://colab.research.google.com/github/camila-marquess/analise-dataset-beer-consumption-sao-paulo/blob/master/Dataset_Beer_Consumption.ipynb\" target=\"_parent\"><img src=\"https://colab.research.google.com/assets/colab-badge.svg\" alt=\"Open In Colab\"/></a>"
      ]
    },
    {
      "cell_type": "markdown",
      "metadata": {
        "id": "4fO2M9MP3ASW",
        "colab_type": "text"
      },
      "source": [
        "# **O dataset a ser analisado será o \"Beer Consumption - São Paulo\". O objetivo desta análise é prever a quantidade de consumo de cerveja em litros. Primeiramente, foi feita uma análise exploratória dos dados. Depois, foi feito o tratamento dos dados nulos e inserção de novas variáveis. Após isso, foi feito o modelo de regressão linear múltipla.**\n",
        "\n",
        "\n",
        "\n",
        "\n",
        "\n"
      ]
    },
    {
      "cell_type": "markdown",
      "metadata": {
        "id": "kMhHf5fmeBv6",
        "colab_type": "text"
      },
      "source": [
        "\n",
        "# Importação das bibliotecas necessárias para a análise:\n",
        "\n",
        "\n"
      ]
    },
    {
      "cell_type": "code",
      "metadata": {
        "id": "jP5pYwWPq_B-",
        "colab_type": "code",
        "outputId": "dd3e990e-ee98-40ce-b4e6-03e30dc2ea08",
        "colab": {
          "base_uri": "https://localhost:8080/",
          "height": 74
        }
      },
      "source": [
        "import pandas as pd \n",
        "\n",
        "import matplotlib.pyplot as plt\n",
        "\n",
        "%matplotlib inline\n",
        "\n",
        "import seaborn as sns\n",
        "\n",
        "import numpy as np\n",
        "\n",
        "from sklearn.model_selection import train_test_split\n",
        "\n",
        "from sklearn.linear_model import LinearRegression\n",
        "\n",
        "from sklearn.metrics import mean_squared_error"
      ],
      "execution_count": 0,
      "outputs": [
        {
          "output_type": "stream",
          "text": [
            "/usr/local/lib/python3.6/dist-packages/statsmodels/tools/_testing.py:19: FutureWarning: pandas.util.testing is deprecated. Use the functions in the public API at pandas.testing instead.\n",
            "  import pandas.util.testing as tm\n"
          ],
          "name": "stderr"
        }
      ]
    },
    {
      "cell_type": "markdown",
      "metadata": {
        "id": "J8SnjdpD1GBb",
        "colab_type": "text"
      },
      "source": [
        "# Leitura do dataset:"
      ]
    },
    {
      "cell_type": "code",
      "metadata": {
        "id": "8mL7HWXdPXy0",
        "colab_type": "code",
        "colab": {
          "base_uri": "https://localhost:8080/",
          "height": 213
        },
        "outputId": "799156d8-1b81-47a0-8e06-bf1b933913f4"
      },
      "source": [
        "## Importante colocar seu caminho para o dataset.\n",
        "\n",
        "df = pd.read_csv('/content/drive/My Drive/python_2/Consumo_cerveja.csv')"
      ],
      "execution_count": 1,
      "outputs": [
        {
          "output_type": "error",
          "ename": "NameError",
          "evalue": "ignored",
          "traceback": [
            "\u001b[0;31m---------------------------------------------------------------------------\u001b[0m",
            "\u001b[0;31mNameError\u001b[0m                                 Traceback (most recent call last)",
            "\u001b[0;32m<ipython-input-1-9994ea83a2cf>\u001b[0m in \u001b[0;36m<module>\u001b[0;34m()\u001b[0m\n\u001b[1;32m      1\u001b[0m \u001b[0;31m## Importante colocar seu caminho para o dataset.\u001b[0m\u001b[0;34m\u001b[0m\u001b[0;34m\u001b[0m\u001b[0;34m\u001b[0m\u001b[0m\n\u001b[1;32m      2\u001b[0m \u001b[0;34m\u001b[0m\u001b[0m\n\u001b[0;32m----> 3\u001b[0;31m \u001b[0mdf\u001b[0m \u001b[0;34m=\u001b[0m \u001b[0mpd\u001b[0m\u001b[0;34m.\u001b[0m\u001b[0mread_csv\u001b[0m\u001b[0;34m(\u001b[0m\u001b[0;34m'/content/drive/My Drive/python_2/Consumo_cerveja.csv'\u001b[0m\u001b[0;34m)\u001b[0m\u001b[0;34m\u001b[0m\u001b[0;34m\u001b[0m\u001b[0m\n\u001b[0m",
            "\u001b[0;31mNameError\u001b[0m: name 'pd' is not defined"
          ]
        }
      ]
    },
    {
      "cell_type": "markdown",
      "metadata": {
        "id": "jLk_Jyr0zEJJ",
        "colab_type": "text"
      },
      "source": [
        "# **Análise Exploratória dos Dados**"
      ]
    },
    {
      "cell_type": "markdown",
      "metadata": {
        "id": "YrKpWTz8eOG2",
        "colab_type": "text"
      },
      "source": [
        "# Verificando as 10 primeiras linhas do dataset:"
      ]
    },
    {
      "cell_type": "code",
      "metadata": {
        "id": "ohUEcMVpP0oa",
        "colab_type": "code",
        "outputId": "9ad5d5eb-e9da-4480-f135-45da9d1d3673",
        "colab": {
          "base_uri": "https://localhost:8080/",
          "height": 363
        }
      },
      "source": [
        "df.head(10)"
      ],
      "execution_count": 0,
      "outputs": [
        {
          "output_type": "execute_result",
          "data": {
            "text/html": [
              "<div>\n",
              "<style scoped>\n",
              "    .dataframe tbody tr th:only-of-type {\n",
              "        vertical-align: middle;\n",
              "    }\n",
              "\n",
              "    .dataframe tbody tr th {\n",
              "        vertical-align: top;\n",
              "    }\n",
              "\n",
              "    .dataframe thead th {\n",
              "        text-align: right;\n",
              "    }\n",
              "</style>\n",
              "<table border=\"1\" class=\"dataframe\">\n",
              "  <thead>\n",
              "    <tr style=\"text-align: right;\">\n",
              "      <th></th>\n",
              "      <th>Data</th>\n",
              "      <th>Temperatura Media (C)</th>\n",
              "      <th>Temperatura Minima (C)</th>\n",
              "      <th>Temperatura Maxima (C)</th>\n",
              "      <th>Precipitacao (mm)</th>\n",
              "      <th>Final de Semana</th>\n",
              "      <th>Consumo de cerveja (litros)</th>\n",
              "    </tr>\n",
              "  </thead>\n",
              "  <tbody>\n",
              "    <tr>\n",
              "      <th>0</th>\n",
              "      <td>2015-01-01</td>\n",
              "      <td>27,3</td>\n",
              "      <td>23,9</td>\n",
              "      <td>32,5</td>\n",
              "      <td>0</td>\n",
              "      <td>0.0</td>\n",
              "      <td>25.461</td>\n",
              "    </tr>\n",
              "    <tr>\n",
              "      <th>1</th>\n",
              "      <td>2015-01-02</td>\n",
              "      <td>27,02</td>\n",
              "      <td>24,5</td>\n",
              "      <td>33,5</td>\n",
              "      <td>0</td>\n",
              "      <td>0.0</td>\n",
              "      <td>28.972</td>\n",
              "    </tr>\n",
              "    <tr>\n",
              "      <th>2</th>\n",
              "      <td>2015-01-03</td>\n",
              "      <td>24,82</td>\n",
              "      <td>22,4</td>\n",
              "      <td>29,9</td>\n",
              "      <td>0</td>\n",
              "      <td>1.0</td>\n",
              "      <td>30.814</td>\n",
              "    </tr>\n",
              "    <tr>\n",
              "      <th>3</th>\n",
              "      <td>2015-01-04</td>\n",
              "      <td>23,98</td>\n",
              "      <td>21,5</td>\n",
              "      <td>28,6</td>\n",
              "      <td>1,2</td>\n",
              "      <td>1.0</td>\n",
              "      <td>29.799</td>\n",
              "    </tr>\n",
              "    <tr>\n",
              "      <th>4</th>\n",
              "      <td>2015-01-05</td>\n",
              "      <td>23,82</td>\n",
              "      <td>21</td>\n",
              "      <td>28,3</td>\n",
              "      <td>0</td>\n",
              "      <td>0.0</td>\n",
              "      <td>28.900</td>\n",
              "    </tr>\n",
              "    <tr>\n",
              "      <th>5</th>\n",
              "      <td>2015-01-06</td>\n",
              "      <td>23,78</td>\n",
              "      <td>20,1</td>\n",
              "      <td>30,5</td>\n",
              "      <td>12,2</td>\n",
              "      <td>0.0</td>\n",
              "      <td>28.218</td>\n",
              "    </tr>\n",
              "    <tr>\n",
              "      <th>6</th>\n",
              "      <td>2015-01-07</td>\n",
              "      <td>24</td>\n",
              "      <td>19,5</td>\n",
              "      <td>33,7</td>\n",
              "      <td>0</td>\n",
              "      <td>0.0</td>\n",
              "      <td>29.732</td>\n",
              "    </tr>\n",
              "    <tr>\n",
              "      <th>7</th>\n",
              "      <td>2015-01-08</td>\n",
              "      <td>24,9</td>\n",
              "      <td>19,5</td>\n",
              "      <td>32,8</td>\n",
              "      <td>48,6</td>\n",
              "      <td>0.0</td>\n",
              "      <td>28.397</td>\n",
              "    </tr>\n",
              "    <tr>\n",
              "      <th>8</th>\n",
              "      <td>2015-01-09</td>\n",
              "      <td>28,2</td>\n",
              "      <td>21,9</td>\n",
              "      <td>34</td>\n",
              "      <td>4,4</td>\n",
              "      <td>0.0</td>\n",
              "      <td>24.886</td>\n",
              "    </tr>\n",
              "    <tr>\n",
              "      <th>9</th>\n",
              "      <td>2015-01-10</td>\n",
              "      <td>26,76</td>\n",
              "      <td>22,1</td>\n",
              "      <td>34,2</td>\n",
              "      <td>0</td>\n",
              "      <td>1.0</td>\n",
              "      <td>37.937</td>\n",
              "    </tr>\n",
              "  </tbody>\n",
              "</table>\n",
              "</div>"
            ],
            "text/plain": [
              "         Data  ... Consumo de cerveja (litros)\n",
              "0  2015-01-01  ...                      25.461\n",
              "1  2015-01-02  ...                      28.972\n",
              "2  2015-01-03  ...                      30.814\n",
              "3  2015-01-04  ...                      29.799\n",
              "4  2015-01-05  ...                      28.900\n",
              "5  2015-01-06  ...                      28.218\n",
              "6  2015-01-07  ...                      29.732\n",
              "7  2015-01-08  ...                      28.397\n",
              "8  2015-01-09  ...                      24.886\n",
              "9  2015-01-10  ...                      37.937\n",
              "\n",
              "[10 rows x 7 columns]"
            ]
          },
          "metadata": {
            "tags": []
          },
          "execution_count": 30
        }
      ]
    },
    {
      "cell_type": "markdown",
      "metadata": {
        "id": "h_2IlmK22W7D",
        "colab_type": "text"
      },
      "source": [
        "# Verificando o tamanho do dataset:"
      ]
    },
    {
      "cell_type": "code",
      "metadata": {
        "id": "UYlJd34A2aX2",
        "colab_type": "code",
        "outputId": "f502d33c-feaf-4cfe-83b2-fce6273aeaed",
        "colab": {
          "base_uri": "https://localhost:8080/",
          "height": 35
        }
      },
      "source": [
        "df.shape"
      ],
      "execution_count": 0,
      "outputs": [
        {
          "output_type": "execute_result",
          "data": {
            "text/plain": [
              "(941, 7)"
            ]
          },
          "metadata": {
            "tags": []
          },
          "execution_count": 47
        }
      ]
    },
    {
      "cell_type": "markdown",
      "metadata": {
        "id": "pigz4jQD2nWT",
        "colab_type": "text"
      },
      "source": [
        "O dataset possui 941 linhas e 7 colunas."
      ]
    },
    {
      "cell_type": "markdown",
      "metadata": {
        "id": "-Ep2diQpNbnI",
        "colab_type": "text"
      },
      "source": [
        "# Neste trabalho a variável Data será desconsiderada, portanto optou-se por eliminá-la do dataset: "
      ]
    },
    {
      "cell_type": "code",
      "metadata": {
        "id": "TUWXxUQNNjoU",
        "colab_type": "code",
        "colab": {}
      },
      "source": [
        "df = df.drop(['Data'], axis=1)"
      ],
      "execution_count": 0,
      "outputs": []
    },
    {
      "cell_type": "code",
      "metadata": {
        "id": "ticyiUUYOTrF",
        "colab_type": "code",
        "outputId": "fdf16e06-840b-4a9f-914a-1a6dd1255620",
        "colab": {
          "base_uri": "https://localhost:8080/",
          "height": 206
        }
      },
      "source": [
        "df.head()"
      ],
      "execution_count": 0,
      "outputs": [
        {
          "output_type": "execute_result",
          "data": {
            "text/html": [
              "<div>\n",
              "<style scoped>\n",
              "    .dataframe tbody tr th:only-of-type {\n",
              "        vertical-align: middle;\n",
              "    }\n",
              "\n",
              "    .dataframe tbody tr th {\n",
              "        vertical-align: top;\n",
              "    }\n",
              "\n",
              "    .dataframe thead th {\n",
              "        text-align: right;\n",
              "    }\n",
              "</style>\n",
              "<table border=\"1\" class=\"dataframe\">\n",
              "  <thead>\n",
              "    <tr style=\"text-align: right;\">\n",
              "      <th></th>\n",
              "      <th>Temperatura Media (C)</th>\n",
              "      <th>Temperatura Minima (C)</th>\n",
              "      <th>Temperatura Maxima (C)</th>\n",
              "      <th>Precipitacao (mm)</th>\n",
              "      <th>Final de Semana</th>\n",
              "      <th>Consumo de cerveja (litros)</th>\n",
              "    </tr>\n",
              "  </thead>\n",
              "  <tbody>\n",
              "    <tr>\n",
              "      <th>0</th>\n",
              "      <td>27,3</td>\n",
              "      <td>23,9</td>\n",
              "      <td>32,5</td>\n",
              "      <td>0</td>\n",
              "      <td>0.0</td>\n",
              "      <td>25.461</td>\n",
              "    </tr>\n",
              "    <tr>\n",
              "      <th>1</th>\n",
              "      <td>27,02</td>\n",
              "      <td>24,5</td>\n",
              "      <td>33,5</td>\n",
              "      <td>0</td>\n",
              "      <td>0.0</td>\n",
              "      <td>28.972</td>\n",
              "    </tr>\n",
              "    <tr>\n",
              "      <th>2</th>\n",
              "      <td>24,82</td>\n",
              "      <td>22,4</td>\n",
              "      <td>29,9</td>\n",
              "      <td>0</td>\n",
              "      <td>1.0</td>\n",
              "      <td>30.814</td>\n",
              "    </tr>\n",
              "    <tr>\n",
              "      <th>3</th>\n",
              "      <td>23,98</td>\n",
              "      <td>21,5</td>\n",
              "      <td>28,6</td>\n",
              "      <td>1,2</td>\n",
              "      <td>1.0</td>\n",
              "      <td>29.799</td>\n",
              "    </tr>\n",
              "    <tr>\n",
              "      <th>4</th>\n",
              "      <td>23,82</td>\n",
              "      <td>21</td>\n",
              "      <td>28,3</td>\n",
              "      <td>0</td>\n",
              "      <td>0.0</td>\n",
              "      <td>28.900</td>\n",
              "    </tr>\n",
              "  </tbody>\n",
              "</table>\n",
              "</div>"
            ],
            "text/plain": [
              "  Temperatura Media (C)  ... Consumo de cerveja (litros)\n",
              "0                  27,3  ...                      25.461\n",
              "1                 27,02  ...                      28.972\n",
              "2                 24,82  ...                      30.814\n",
              "3                 23,98  ...                      29.799\n",
              "4                 23,82  ...                      28.900\n",
              "\n",
              "[5 rows x 6 columns]"
            ]
          },
          "metadata": {
            "tags": []
          },
          "execution_count": 74
        }
      ]
    },
    {
      "cell_type": "markdown",
      "metadata": {
        "id": "ZSbUwJ9beTHd",
        "colab_type": "text"
      },
      "source": [
        "# Verificando a quantidade de valores nulos no dataset:"
      ]
    },
    {
      "cell_type": "code",
      "metadata": {
        "id": "51tvYnH9QX1z",
        "colab_type": "code",
        "outputId": "87f89698-4f2e-4732-f1b7-6090f3f526e3",
        "colab": {
          "base_uri": "https://localhost:8080/",
          "height": 146
        }
      },
      "source": [
        "df.isna().sum()"
      ],
      "execution_count": 0,
      "outputs": [
        {
          "output_type": "execute_result",
          "data": {
            "text/plain": [
              "Temperatura Media (C)          576\n",
              "Temperatura Minima (C)         576\n",
              "Temperatura Maxima (C)         576\n",
              "Precipitacao (mm)              576\n",
              "Final de Semana                576\n",
              "Consumo de cerveja (litros)    576\n",
              "dtype: int64"
            ]
          },
          "metadata": {
            "tags": []
          },
          "execution_count": 5
        }
      ]
    },
    {
      "cell_type": "markdown",
      "metadata": {
        "id": "ea7ffA78eXvk",
        "colab_type": "text"
      },
      "source": [
        "# Verificando algumas informações do dataset:"
      ]
    },
    {
      "cell_type": "code",
      "metadata": {
        "id": "uqgyyx_AQp3d",
        "colab_type": "code",
        "outputId": "db00cdc8-3e72-4ee8-a87b-1b134facd58a",
        "colab": {
          "base_uri": "https://localhost:8080/",
          "height": 274
        }
      },
      "source": [
        "df.info()"
      ],
      "execution_count": 0,
      "outputs": [
        {
          "output_type": "stream",
          "text": [
            "<class 'pandas.core.frame.DataFrame'>\n",
            "RangeIndex: 941 entries, 0 to 940\n",
            "Data columns (total 7 columns):\n",
            " #   Column                       Non-Null Count  Dtype  \n",
            "---  ------                       --------------  -----  \n",
            " 0   Data                         365 non-null    object \n",
            " 1   Temperatura Media (C)        365 non-null    object \n",
            " 2   Temperatura Minima (C)       365 non-null    object \n",
            " 3   Temperatura Maxima (C)       365 non-null    object \n",
            " 4   Precipitacao (mm)            365 non-null    object \n",
            " 5   Final de Semana              365 non-null    float64\n",
            " 6   Consumo de cerveja (litros)  365 non-null    float64\n",
            "dtypes: float64(2), object(5)\n",
            "memory usage: 51.6+ KB\n"
          ],
          "name": "stdout"
        }
      ]
    },
    {
      "cell_type": "markdown",
      "metadata": {
        "id": "gDMCS2rHeeXi",
        "colab_type": "text"
      },
      "source": [
        "# Percebeu-se que as variáveis Temperatura Media (C), Temperatura Minima (C), Temperatura Maxima (C) e Precipitacao (mm) estavam no tipo string, portanto foi necessário transformá-las em float:"
      ]
    },
    {
      "cell_type": "code",
      "metadata": {
        "colab_type": "code",
        "id": "kIyg1zPKjuXR",
        "colab": {}
      },
      "source": [
        "df['Temperatura Media (C)'] = df['Temperatura Media (C)'].str.replace(',' ,'.').astype(float)\n",
        "\n",
        "df['Temperatura Minima (C)'] = df['Temperatura Minima (C)'].str.replace(',' ,'.').astype(float)\n",
        "\n",
        "df['Temperatura Maxima (C)'] = df['Temperatura Maxima (C)'].str.replace(',' ,'.').astype(float)\n",
        "\n",
        "df['Precipitacao (mm)'] = df['Precipitacao (mm)'].str.replace(',' ,'.').astype(float)"
      ],
      "execution_count": 0,
      "outputs": []
    },
    {
      "cell_type": "markdown",
      "metadata": {
        "id": "11Byrl5Ee3Fs",
        "colab_type": "text"
      },
      "source": [
        "# Verificando se a transformação das variáveis deu certo:"
      ]
    },
    {
      "cell_type": "code",
      "metadata": {
        "id": "IWH9okHDj34J",
        "colab_type": "code",
        "outputId": "b7560602-b00d-460f-b1a2-1746ddbf4702",
        "colab": {
          "base_uri": "https://localhost:8080/",
          "height": 293
        }
      },
      "source": [
        "df.info()"
      ],
      "execution_count": 0,
      "outputs": [
        {
          "output_type": "stream",
          "text": [
            "<class 'pandas.core.frame.DataFrame'>\n",
            "Int64Index: 365 entries, 0 to 364\n",
            "Data columns (total 8 columns):\n",
            " #   Column                       Non-Null Count  Dtype  \n",
            "---  ------                       --------------  -----  \n",
            " 0   Data                         365 non-null    object \n",
            " 1   Temperatura Media (C)        365 non-null    float64\n",
            " 2   Temperatura Minima (C)       365 non-null    float64\n",
            " 3   Temperatura Maxima (C)       365 non-null    float64\n",
            " 4   Precipitacao (mm)            365 non-null    float64\n",
            " 5   Final de Semana              365 non-null    int64  \n",
            " 6   Consumo de cerveja (litros)  365 non-null    float64\n",
            " 7   Choveu?                      365 non-null    float64\n",
            "dtypes: float64(6), int64(1), object(1)\n",
            "memory usage: 25.7+ KB\n"
          ],
          "name": "stdout"
        }
      ]
    },
    {
      "cell_type": "markdown",
      "metadata": {
        "id": "ZT4EldZFfFEa",
        "colab_type": "text"
      },
      "source": [
        "# Após isso, tendo em vista que todas variáveis possuíam 576 valores nulos, decidiu-se por exclui-los:"
      ]
    },
    {
      "cell_type": "code",
      "metadata": {
        "id": "ybG6Ttxvj5rS",
        "colab_type": "code",
        "colab": {}
      },
      "source": [
        "df = df.dropna()"
      ],
      "execution_count": 0,
      "outputs": []
    },
    {
      "cell_type": "markdown",
      "metadata": {
        "id": "FOSkZidOfaIV",
        "colab_type": "text"
      },
      "source": [
        "# Verificando se o dataset ainda possui valores nulos:"
      ]
    },
    {
      "cell_type": "code",
      "metadata": {
        "id": "C2QV9TYLkDoa",
        "colab_type": "code",
        "outputId": "b397414d-ab42-4a49-f3dd-eb2ba56f33f8",
        "colab": {
          "base_uri": "https://localhost:8080/",
          "height": 164
        }
      },
      "source": [
        "df.isna().sum()"
      ],
      "execution_count": 0,
      "outputs": [
        {
          "output_type": "execute_result",
          "data": {
            "text/plain": [
              "Data                           0\n",
              "Temperatura Media (C)          0\n",
              "Temperatura Minima (C)         0\n",
              "Temperatura Maxima (C)         0\n",
              "Precipitacao (mm)              0\n",
              "Final de Semana                0\n",
              "Consumo de cerveja (litros)    0\n",
              "dtype: int64"
            ]
          },
          "metadata": {
            "tags": []
          },
          "execution_count": 11
        }
      ]
    },
    {
      "cell_type": "markdown",
      "metadata": {
        "id": "JrDSJgFAFnWU",
        "colab_type": "text"
      },
      "source": [
        "Pode-se perceber que o dataset não possui mais valores nulos."
      ]
    },
    {
      "cell_type": "markdown",
      "metadata": {
        "id": "hz7cPXbffh5B",
        "colab_type": "text"
      },
      "source": [
        "# Verificando o tamanho do dataset após excluir os valores nulos:"
      ]
    },
    {
      "cell_type": "code",
      "metadata": {
        "id": "f1i7ftvakJyn",
        "colab_type": "code",
        "outputId": "b7d5ff22-0790-404d-f503-88ec8528ed86",
        "colab": {
          "base_uri": "https://localhost:8080/",
          "height": 35
        }
      },
      "source": [
        "df.shape"
      ],
      "execution_count": 0,
      "outputs": [
        {
          "output_type": "execute_result",
          "data": {
            "text/plain": [
              "(365, 7)"
            ]
          },
          "metadata": {
            "tags": []
          },
          "execution_count": 24
        }
      ]
    },
    {
      "cell_type": "markdown",
      "metadata": {
        "id": "_smz2xhafnPO",
        "colab_type": "text"
      },
      "source": [
        "# Feature Engineering: decidiu-se por incluir uma coluna baseada na variável Precipitação na qual 1 significa que choveu e 0 significa que não choveu naquele dia."
      ]
    },
    {
      "cell_type": "code",
      "metadata": {
        "id": "PJW_HagUkMae",
        "colab_type": "code",
        "colab": {}
      },
      "source": [
        "#Choveu? 1-sim 0-não\n",
        "\n",
        "df['Choveu?'] = df['Precipitacao (mm)'].apply(lambda x: 1.0 if x > 0 else 0.0)"
      ],
      "execution_count": 0,
      "outputs": []
    },
    {
      "cell_type": "code",
      "metadata": {
        "id": "-AfuXdF1qThI",
        "colab_type": "code",
        "outputId": "20d6e856-226d-4d23-d566-78cb932182d4",
        "colab": {
          "base_uri": "https://localhost:8080/",
          "height": 206
        }
      },
      "source": [
        "df.head()"
      ],
      "execution_count": 0,
      "outputs": [
        {
          "output_type": "execute_result",
          "data": {
            "text/html": [
              "<div>\n",
              "<style scoped>\n",
              "    .dataframe tbody tr th:only-of-type {\n",
              "        vertical-align: middle;\n",
              "    }\n",
              "\n",
              "    .dataframe tbody tr th {\n",
              "        vertical-align: top;\n",
              "    }\n",
              "\n",
              "    .dataframe thead th {\n",
              "        text-align: right;\n",
              "    }\n",
              "</style>\n",
              "<table border=\"1\" class=\"dataframe\">\n",
              "  <thead>\n",
              "    <tr style=\"text-align: right;\">\n",
              "      <th></th>\n",
              "      <th>Temperatura Media (C)</th>\n",
              "      <th>Temperatura Minima (C)</th>\n",
              "      <th>Temperatura Maxima (C)</th>\n",
              "      <th>Precipitacao (mm)</th>\n",
              "      <th>Final de Semana</th>\n",
              "      <th>Consumo de cerveja (litros)</th>\n",
              "      <th>Choveu?</th>\n",
              "    </tr>\n",
              "  </thead>\n",
              "  <tbody>\n",
              "    <tr>\n",
              "      <th>0</th>\n",
              "      <td>27.30</td>\n",
              "      <td>23.9</td>\n",
              "      <td>32.5</td>\n",
              "      <td>0.0</td>\n",
              "      <td>0.0</td>\n",
              "      <td>25.461</td>\n",
              "      <td>0.0</td>\n",
              "    </tr>\n",
              "    <tr>\n",
              "      <th>1</th>\n",
              "      <td>27.02</td>\n",
              "      <td>24.5</td>\n",
              "      <td>33.5</td>\n",
              "      <td>0.0</td>\n",
              "      <td>0.0</td>\n",
              "      <td>28.972</td>\n",
              "      <td>0.0</td>\n",
              "    </tr>\n",
              "    <tr>\n",
              "      <th>2</th>\n",
              "      <td>24.82</td>\n",
              "      <td>22.4</td>\n",
              "      <td>29.9</td>\n",
              "      <td>0.0</td>\n",
              "      <td>1.0</td>\n",
              "      <td>30.814</td>\n",
              "      <td>0.0</td>\n",
              "    </tr>\n",
              "    <tr>\n",
              "      <th>3</th>\n",
              "      <td>23.98</td>\n",
              "      <td>21.5</td>\n",
              "      <td>28.6</td>\n",
              "      <td>1.2</td>\n",
              "      <td>1.0</td>\n",
              "      <td>29.799</td>\n",
              "      <td>1.0</td>\n",
              "    </tr>\n",
              "    <tr>\n",
              "      <th>4</th>\n",
              "      <td>23.82</td>\n",
              "      <td>21.0</td>\n",
              "      <td>28.3</td>\n",
              "      <td>0.0</td>\n",
              "      <td>0.0</td>\n",
              "      <td>28.900</td>\n",
              "      <td>0.0</td>\n",
              "    </tr>\n",
              "  </tbody>\n",
              "</table>\n",
              "</div>"
            ],
            "text/plain": [
              "   Temperatura Media (C)  ...  Choveu?\n",
              "0                  27.30  ...      0.0\n",
              "1                  27.02  ...      0.0\n",
              "2                  24.82  ...      0.0\n",
              "3                  23.98  ...      1.0\n",
              "4                  23.82  ...      0.0\n",
              "\n",
              "[5 rows x 7 columns]"
            ]
          },
          "metadata": {
            "tags": []
          },
          "execution_count": 29
        }
      ]
    },
    {
      "cell_type": "markdown",
      "metadata": {
        "id": "IWTrU5nkg-Gx",
        "colab_type": "text"
      },
      "source": [
        "# Verificando algumas estatísticas do dataset:"
      ]
    },
    {
      "cell_type": "code",
      "metadata": {
        "id": "VJGiJ06QhG2w",
        "colab_type": "code",
        "outputId": "a40e7aef-0997-44e8-e85c-29830bd278cc",
        "colab": {
          "base_uri": "https://localhost:8080/",
          "height": 269
        }
      },
      "source": [
        "df.describe().transpose()"
      ],
      "execution_count": 0,
      "outputs": [
        {
          "output_type": "execute_result",
          "data": {
            "text/html": [
              "<div>\n",
              "<style scoped>\n",
              "    .dataframe tbody tr th:only-of-type {\n",
              "        vertical-align: middle;\n",
              "    }\n",
              "\n",
              "    .dataframe tbody tr th {\n",
              "        vertical-align: top;\n",
              "    }\n",
              "\n",
              "    .dataframe thead th {\n",
              "        text-align: right;\n",
              "    }\n",
              "</style>\n",
              "<table border=\"1\" class=\"dataframe\">\n",
              "  <thead>\n",
              "    <tr style=\"text-align: right;\">\n",
              "      <th></th>\n",
              "      <th>count</th>\n",
              "      <th>mean</th>\n",
              "      <th>std</th>\n",
              "      <th>min</th>\n",
              "      <th>25%</th>\n",
              "      <th>50%</th>\n",
              "      <th>75%</th>\n",
              "      <th>max</th>\n",
              "    </tr>\n",
              "  </thead>\n",
              "  <tbody>\n",
              "    <tr>\n",
              "      <th>Temperatura Media (C)</th>\n",
              "      <td>365.0</td>\n",
              "      <td>21.226356</td>\n",
              "      <td>3.180108</td>\n",
              "      <td>12.900</td>\n",
              "      <td>19.020</td>\n",
              "      <td>21.380</td>\n",
              "      <td>23.280</td>\n",
              "      <td>28.860</td>\n",
              "    </tr>\n",
              "    <tr>\n",
              "      <th>Temperatura Minima (C)</th>\n",
              "      <td>365.0</td>\n",
              "      <td>17.461370</td>\n",
              "      <td>2.826185</td>\n",
              "      <td>10.600</td>\n",
              "      <td>15.300</td>\n",
              "      <td>17.900</td>\n",
              "      <td>19.600</td>\n",
              "      <td>24.500</td>\n",
              "    </tr>\n",
              "    <tr>\n",
              "      <th>Temperatura Maxima (C)</th>\n",
              "      <td>365.0</td>\n",
              "      <td>26.611507</td>\n",
              "      <td>4.317366</td>\n",
              "      <td>14.500</td>\n",
              "      <td>23.800</td>\n",
              "      <td>26.900</td>\n",
              "      <td>29.400</td>\n",
              "      <td>36.500</td>\n",
              "    </tr>\n",
              "    <tr>\n",
              "      <th>Precipitacao (mm)</th>\n",
              "      <td>365.0</td>\n",
              "      <td>5.196712</td>\n",
              "      <td>12.417844</td>\n",
              "      <td>0.000</td>\n",
              "      <td>0.000</td>\n",
              "      <td>0.000</td>\n",
              "      <td>3.200</td>\n",
              "      <td>94.800</td>\n",
              "    </tr>\n",
              "    <tr>\n",
              "      <th>Final de Semana</th>\n",
              "      <td>365.0</td>\n",
              "      <td>0.284932</td>\n",
              "      <td>0.452001</td>\n",
              "      <td>0.000</td>\n",
              "      <td>0.000</td>\n",
              "      <td>0.000</td>\n",
              "      <td>1.000</td>\n",
              "      <td>1.000</td>\n",
              "    </tr>\n",
              "    <tr>\n",
              "      <th>Consumo de cerveja (litros)</th>\n",
              "      <td>365.0</td>\n",
              "      <td>25.401367</td>\n",
              "      <td>4.399143</td>\n",
              "      <td>14.343</td>\n",
              "      <td>22.008</td>\n",
              "      <td>24.867</td>\n",
              "      <td>28.631</td>\n",
              "      <td>37.937</td>\n",
              "    </tr>\n",
              "    <tr>\n",
              "      <th>Choveu?</th>\n",
              "      <td>365.0</td>\n",
              "      <td>0.402740</td>\n",
              "      <td>0.491122</td>\n",
              "      <td>0.000</td>\n",
              "      <td>0.000</td>\n",
              "      <td>0.000</td>\n",
              "      <td>1.000</td>\n",
              "      <td>1.000</td>\n",
              "    </tr>\n",
              "  </tbody>\n",
              "</table>\n",
              "</div>"
            ],
            "text/plain": [
              "                             count       mean  ...     75%     max\n",
              "Temperatura Media (C)        365.0  21.226356  ...  23.280  28.860\n",
              "Temperatura Minima (C)       365.0  17.461370  ...  19.600  24.500\n",
              "Temperatura Maxima (C)       365.0  26.611507  ...  29.400  36.500\n",
              "Precipitacao (mm)            365.0   5.196712  ...   3.200  94.800\n",
              "Final de Semana              365.0   0.284932  ...   1.000   1.000\n",
              "Consumo de cerveja (litros)  365.0  25.401367  ...  28.631  37.937\n",
              "Choveu?                      365.0   0.402740  ...   1.000   1.000\n",
              "\n",
              "[7 rows x 8 columns]"
            ]
          },
          "metadata": {
            "tags": []
          },
          "execution_count": 43
        }
      ]
    },
    {
      "cell_type": "markdown",
      "metadata": {
        "id": "hLBxrpr-cURe",
        "colab_type": "text"
      },
      "source": [
        "# As pessoas bebem mais no final de semana ou dia de semana? "
      ]
    },
    {
      "cell_type": "code",
      "metadata": {
        "id": "nHJcO83T1OP3",
        "colab_type": "code",
        "outputId": "bfe4b050-74ef-4e92-8f09-0e9f8e79a494",
        "colab": {
          "base_uri": "https://localhost:8080/",
          "height": 90
        }
      },
      "source": [
        "df['Consumo de cerveja (litros)'].groupby(df['Final de Semana']).agg('mean')"
      ],
      "execution_count": 0,
      "outputs": [
        {
          "output_type": "execute_result",
          "data": {
            "text/plain": [
              "Final de Semana\n",
              "0.0    23.998222\n",
              "1.0    28.922721\n",
              "Name: Consumo de cerveja (litros), dtype: float64"
            ]
          },
          "metadata": {
            "tags": []
          },
          "execution_count": 18
        }
      ]
    },
    {
      "cell_type": "markdown",
      "metadata": {
        "id": "3OZuVuG8cdBO",
        "colab_type": "text"
      },
      "source": [
        "Resposta: O consumo médio de cerveja é maior nos finais de semana."
      ]
    },
    {
      "cell_type": "markdown",
      "metadata": {
        "id": "i2zJXkTtyVxB",
        "colab_type": "text"
      },
      "source": [
        "# Verificando o consumo de cerveja nos dias de semana e nos finais de semana por meio de um box plot:"
      ]
    },
    {
      "cell_type": "code",
      "metadata": {
        "id": "aTm9s930yQyF",
        "colab_type": "code",
        "outputId": "3c003a6b-fd6b-4848-9cca-13ae835aec6b",
        "colab": {
          "base_uri": "https://localhost:8080/",
          "height": 404
        }
      },
      "source": [
        "x = 'Final de Semana'\n",
        "y = 'Consumo de cerveja (litros)'\n",
        "\n",
        "plt.figure(figsize = (10,6))\n",
        "\n",
        "boxplot = sns.boxplot(x=x,y=y,data=df,palette='hls')\n",
        "\n",
        "boxplot.set_title('Consumo de litros de Cerveja em dias de semana e finais de semana')\n",
        "\n",
        "plt.show()"
      ],
      "execution_count": 0,
      "outputs": [
        {
          "output_type": "display_data",
          "data": {
            "image/png": "[encoded data removed]",
            "text/plain": [
              "<Figure size 720x432 with 1 Axes>"
            ]
          },
          "metadata": {
            "tags": [],
            "needs_background": "light"
          }
        }
      ]
    },
    {
      "cell_type": "markdown",
      "metadata": {
        "id": "Z0dMG4nIG-Ld",
        "colab_type": "text"
      },
      "source": [
        "Os gráficos do tipo boxplots são interessantes para comparar a distribuição de litros de cerveja pelo dia (dia de semana ou final de semana) e para verificar a presença de outliers no modelo. \n",
        "\n",
        "Nos dias de semana, 50% dos dados estão mais ou menos entre 20 e 27 litros de cerveja. Já nos finais de semana, 50% dos dados estão entre 25  e 33 litros.\n",
        "\n",
        "Além disso, por meio deste gráfico, pode-se perceber que existem três outliers nos dias de semana. No código abaixo verificou-se esses outliers."
      ]
    },
    {
      "cell_type": "code",
      "metadata": {
        "id": "1ajhyfnoxcEa",
        "colab_type": "code",
        "outputId": "30f67665-d77b-4209-94bd-a1e0d8646ec8",
        "colab": {
          "base_uri": "https://localhost:8080/",
          "height": 161
        }
      },
      "source": [
        "(\n",
        "    df[(df['Final de Semana'] == 0.0) & (df['Consumo de cerveja (litros)'] > 33.5)]\n",
        ")"
      ],
      "execution_count": 0,
      "outputs": [
        {
          "output_type": "execute_result",
          "data": {
            "text/html": [
              "<div>\n",
              "<style scoped>\n",
              "    .dataframe tbody tr th:only-of-type {\n",
              "        vertical-align: middle;\n",
              "    }\n",
              "\n",
              "    .dataframe tbody tr th {\n",
              "        vertical-align: top;\n",
              "    }\n",
              "\n",
              "    .dataframe thead th {\n",
              "        text-align: right;\n",
              "    }\n",
              "</style>\n",
              "<table border=\"1\" class=\"dataframe\">\n",
              "  <thead>\n",
              "    <tr style=\"text-align: right;\">\n",
              "      <th></th>\n",
              "      <th>Data</th>\n",
              "      <th>Temperatura Media (C)</th>\n",
              "      <th>Temperatura Minima (C)</th>\n",
              "      <th>Temperatura Maxima (C)</th>\n",
              "      <th>Precipitacao (mm)</th>\n",
              "      <th>Final de Semana</th>\n",
              "      <th>Consumo de cerveja (litros)</th>\n",
              "      <th>Choveu?</th>\n",
              "    </tr>\n",
              "  </thead>\n",
              "  <tbody>\n",
              "    <tr>\n",
              "      <th>19</th>\n",
              "      <td>2015-01-20</td>\n",
              "      <td>27.68</td>\n",
              "      <td>23.3</td>\n",
              "      <td>35.6</td>\n",
              "      <td>0.6</td>\n",
              "      <td>0.0</td>\n",
              "      <td>35.127</td>\n",
              "      <td>1.0</td>\n",
              "    </tr>\n",
              "    <tr>\n",
              "      <th>259</th>\n",
              "      <td>2015-09-17</td>\n",
              "      <td>27.26</td>\n",
              "      <td>20.4</td>\n",
              "      <td>33.0</td>\n",
              "      <td>0.0</td>\n",
              "      <td>0.0</td>\n",
              "      <td>33.930</td>\n",
              "      <td>0.0</td>\n",
              "    </tr>\n",
              "    <tr>\n",
              "      <th>287</th>\n",
              "      <td>2015-10-15</td>\n",
              "      <td>28.12</td>\n",
              "      <td>18.9</td>\n",
              "      <td>35.8</td>\n",
              "      <td>0.0</td>\n",
              "      <td>0.0</td>\n",
              "      <td>35.861</td>\n",
              "      <td>0.0</td>\n",
              "    </tr>\n",
              "  </tbody>\n",
              "</table>\n",
              "</div>"
            ],
            "text/plain": [
              "           Data  Temperatura Media (C)  ...  Consumo de cerveja (litros)  Choveu?\n",
              "19   2015-01-20                  27.68  ...                       35.127      1.0\n",
              "259  2015-09-17                  27.26  ...                       33.930      0.0\n",
              "287  2015-10-15                  28.12  ...                       35.861      0.0\n",
              "\n",
              "[3 rows x 8 columns]"
            ]
          },
          "metadata": {
            "tags": []
          },
          "execution_count": 58
        }
      ]
    },
    {
      "cell_type": "markdown",
      "metadata": {
        "id": "QJWew25OcqgB",
        "colab_type": "text"
      },
      "source": [
        "# Qual a média do consumo de cerveja em dias que chovem e em dias que não chovem? "
      ]
    },
    {
      "cell_type": "code",
      "metadata": {
        "id": "eNFqxERk_7-l",
        "colab_type": "code",
        "outputId": "7c3d3397-b733-4891-bb54-c1f57a0c363f",
        "colab": {
          "base_uri": "https://localhost:8080/",
          "height": 90
        }
      },
      "source": [
        "df['Consumo de cerveja (litros)'].groupby(df['Choveu?']).agg('mean')"
      ],
      "execution_count": 0,
      "outputs": [
        {
          "output_type": "execute_result",
          "data": {
            "text/plain": [
              "Choveu?\n",
              "0.0    25.929757\n",
              "1.0    24.617769\n",
              "Name: Consumo de cerveja (litros), dtype: float64"
            ]
          },
          "metadata": {
            "tags": []
          },
          "execution_count": 23
        }
      ]
    },
    {
      "cell_type": "markdown",
      "metadata": {
        "id": "AnvvIy7Acwjm",
        "colab_type": "text"
      },
      "source": [
        "Resposta: Em dias que choveu, a média do consumo foi menor que nos dias que não choveu."
      ]
    },
    {
      "cell_type": "markdown",
      "metadata": {
        "id": "SXBurlwLajer",
        "colab_type": "text"
      },
      "source": [
        "# Verificando a média do consumo em dias da semana e em finais de semana que estão chovendo e que não estão chovendo:"
      ]
    },
    {
      "cell_type": "code",
      "metadata": {
        "id": "4xx2ouswZda3",
        "colab_type": "code",
        "outputId": "5e31f567-f7fb-4475-ed11-689b4ff47c3e",
        "colab": {
          "base_uri": "https://localhost:8080/",
          "height": 143
        }
      },
      "source": [
        "consumo_chuva = pd.pivot_table(df,\n",
        "                       columns = 'Final de Semana',\n",
        "                       index = 'Choveu?',\n",
        "                       values = 'Consumo de cerveja (litros)',\n",
        "                       aggfunc = 'mean')\n",
        "\n",
        "consumo_chuva"
      ],
      "execution_count": 0,
      "outputs": [
        {
          "output_type": "execute_result",
          "data": {
            "text/html": [
              "<div>\n",
              "<style scoped>\n",
              "    .dataframe tbody tr th:only-of-type {\n",
              "        vertical-align: middle;\n",
              "    }\n",
              "\n",
              "    .dataframe tbody tr th {\n",
              "        vertical-align: top;\n",
              "    }\n",
              "\n",
              "    .dataframe thead th {\n",
              "        text-align: right;\n",
              "    }\n",
              "</style>\n",
              "<table border=\"1\" class=\"dataframe\">\n",
              "  <thead>\n",
              "    <tr style=\"text-align: right;\">\n",
              "      <th>Final de Semana</th>\n",
              "      <th>0.0</th>\n",
              "      <th>1.0</th>\n",
              "    </tr>\n",
              "    <tr>\n",
              "      <th>Choveu?</th>\n",
              "      <th></th>\n",
              "      <th></th>\n",
              "    </tr>\n",
              "  </thead>\n",
              "  <tbody>\n",
              "    <tr>\n",
              "      <th>0.0</th>\n",
              "      <td>24.495261</td>\n",
              "      <td>29.621820</td>\n",
              "    </tr>\n",
              "    <tr>\n",
              "      <th>1.0</th>\n",
              "      <td>23.247885</td>\n",
              "      <td>27.930977</td>\n",
              "    </tr>\n",
              "  </tbody>\n",
              "</table>\n",
              "</div>"
            ],
            "text/plain": [
              "Final de Semana        0.0        1.0\n",
              "Choveu?                              \n",
              "0.0              24.495261  29.621820\n",
              "1.0              23.247885  27.930977"
            ]
          },
          "metadata": {
            "tags": []
          },
          "execution_count": 9
        }
      ]
    },
    {
      "cell_type": "markdown",
      "metadata": {
        "id": "SHhp3cNqauQH",
        "colab_type": "text"
      },
      "source": [
        "É possível perceber que tanto nos dias de semana como nos finais de semana, nos dias chuvosos o consumo médio de cerveja é menor."
      ]
    },
    {
      "cell_type": "markdown",
      "metadata": {
        "id": "Zs098XAyfHSQ",
        "colab_type": "text"
      },
      "source": [
        "# Verificando a relação linear do consumo de cerveja em dias de semana e finais de semana que está chovendo."
      ]
    },
    {
      "cell_type": "code",
      "metadata": {
        "id": "aAwEiG26Mr7d",
        "colab_type": "code",
        "outputId": "25f2bf39-8133-4a07-90ef-b2178c750627",
        "colab": {
          "base_uri": "https://localhost:8080/",
          "height": 441
        }
      },
      "source": [
        "sns.lmplot(x='Precipitacao (mm)', y='Consumo de cerveja (litros)', hue='Final de Semana',\n",
        "           data=df, aspect=1.5, height=6);\n",
        "\n",
        "plt.xlabel('Precipitação (mm)')\n",
        "plt.ylabel('Consumo de cerveja (litros)')\n",
        "plt.grid(ls='-.', lw=.5);"
      ],
      "execution_count": 0,
      "outputs": [
        {
          "output_type": "display_data",
          "data": {
            "image/png": "[encoded data removed]",
            "text/plain": [
              "<Figure size 738.625x432 with 1 Axes>"
            ]
          },
          "metadata": {
            "tags": [],
            "needs_background": "light"
          }
        }
      ]
    },
    {
      "cell_type": "markdown",
      "metadata": {
        "id": "F8TG3hPhfWRH",
        "colab_type": "text"
      },
      "source": [
        "Pode-se perceber que a relação da precipitação (mm) com o consumo de cerveja é negativa, ou seja, quanto maior a precipitação (mm), menor será o consumo de cerveja. Por meio deste gráfico de dispersão, é possível perceber que nos finais de semana, apesar da relação também ser negativa, o consumo é maior que nos dias de semana."
      ]
    },
    {
      "cell_type": "markdown",
      "metadata": {
        "id": "RCRnmgOUy1PY",
        "colab_type": "text"
      },
      "source": [
        "# Verificando o consumo de litros de cerveja em dias que choveu e dias que não choveu "
      ]
    },
    {
      "cell_type": "code",
      "metadata": {
        "id": "_5KtWxPhyh80",
        "colab_type": "code",
        "outputId": "aeb8d172-0a09-4978-bc70-49c0c80f322d",
        "colab": {
          "base_uri": "https://localhost:8080/",
          "height": 404
        }
      },
      "source": [
        "x = 'Choveu?'\n",
        "y = 'Consumo de cerveja (litros)'\n",
        "\n",
        "plt.figure(figsize = (10,6))\n",
        "\n",
        "boxplot = sns.boxplot(x=x,y=y,data=df,palette='hls')\n",
        "\n",
        "boxplot.set_title('Consumo de litros de Cerveja em dias que choveu e em dias que não choveu')\n",
        "\n",
        "plt.show()"
      ],
      "execution_count": 0,
      "outputs": [
        {
          "output_type": "display_data",
          "data": {
            "image/png": "[encoded data removed]",
            "text/plain": [
              "<Figure size 720x432 with 1 Axes>"
            ]
          },
          "metadata": {
            "tags": [],
            "needs_background": "light"
          }
        }
      ]
    },
    {
      "cell_type": "markdown",
      "metadata": {
        "id": "mKuG2BiDPO1a",
        "colab_type": "text"
      },
      "source": [
        "Em dias que não choveu, pode-se perceber que o consumo foi maior que nos dias que choveu."
      ]
    },
    {
      "cell_type": "markdown",
      "metadata": {
        "id": "SYzny7FOdlnt",
        "colab_type": "text"
      },
      "source": [
        "# Verificando a correlação entre as variáveis:"
      ]
    },
    {
      "cell_type": "code",
      "metadata": {
        "id": "zyAX4hUBdmkm",
        "colab_type": "code",
        "outputId": "3df3a7f2-483d-441d-f2c6-c7b109937515",
        "colab": {
          "base_uri": "https://localhost:8080/",
          "height": 304
        }
      },
      "source": [
        "df.corr(method = 'pearson')"
      ],
      "execution_count": 0,
      "outputs": [
        {
          "output_type": "execute_result",
          "data": {
            "text/html": [
              "<div>\n",
              "<style scoped>\n",
              "    .dataframe tbody tr th:only-of-type {\n",
              "        vertical-align: middle;\n",
              "    }\n",
              "\n",
              "    .dataframe tbody tr th {\n",
              "        vertical-align: top;\n",
              "    }\n",
              "\n",
              "    .dataframe thead th {\n",
              "        text-align: right;\n",
              "    }\n",
              "</style>\n",
              "<table border=\"1\" class=\"dataframe\">\n",
              "  <thead>\n",
              "    <tr style=\"text-align: right;\">\n",
              "      <th></th>\n",
              "      <th>Temperatura Media (C)</th>\n",
              "      <th>Temperatura Minima (C)</th>\n",
              "      <th>Temperatura Maxima (C)</th>\n",
              "      <th>Precipitacao (mm)</th>\n",
              "      <th>Final de Semana</th>\n",
              "      <th>Consumo de cerveja (litros)</th>\n",
              "      <th>Choveu?</th>\n",
              "    </tr>\n",
              "  </thead>\n",
              "  <tbody>\n",
              "    <tr>\n",
              "      <th>Temperatura Media (C)</th>\n",
              "      <td>1.000000</td>\n",
              "      <td>0.862752</td>\n",
              "      <td>0.922513</td>\n",
              "      <td>0.024416</td>\n",
              "      <td>-0.050803</td>\n",
              "      <td>0.574615</td>\n",
              "      <td>-0.012409</td>\n",
              "    </tr>\n",
              "    <tr>\n",
              "      <th>Temperatura Minima (C)</th>\n",
              "      <td>0.862752</td>\n",
              "      <td>1.000000</td>\n",
              "      <td>0.672929</td>\n",
              "      <td>0.098625</td>\n",
              "      <td>-0.059534</td>\n",
              "      <td>0.392509</td>\n",
              "      <td>0.155332</td>\n",
              "    </tr>\n",
              "    <tr>\n",
              "      <th>Temperatura Maxima (C)</th>\n",
              "      <td>0.922513</td>\n",
              "      <td>0.672929</td>\n",
              "      <td>1.000000</td>\n",
              "      <td>-0.049305</td>\n",
              "      <td>-0.040258</td>\n",
              "      <td>0.642672</td>\n",
              "      <td>-0.138883</td>\n",
              "    </tr>\n",
              "    <tr>\n",
              "      <th>Precipitacao (mm)</th>\n",
              "      <td>0.024416</td>\n",
              "      <td>0.098625</td>\n",
              "      <td>-0.049305</td>\n",
              "      <td>1.000000</td>\n",
              "      <td>0.001587</td>\n",
              "      <td>-0.193784</td>\n",
              "      <td>0.510326</td>\n",
              "    </tr>\n",
              "    <tr>\n",
              "      <th>Final de Semana</th>\n",
              "      <td>-0.050803</td>\n",
              "      <td>-0.059534</td>\n",
              "      <td>-0.040258</td>\n",
              "      <td>0.001587</td>\n",
              "      <td>1.000000</td>\n",
              "      <td>0.505981</td>\n",
              "      <td>0.013800</td>\n",
              "    </tr>\n",
              "    <tr>\n",
              "      <th>Consumo de cerveja (litros)</th>\n",
              "      <td>0.574615</td>\n",
              "      <td>0.392509</td>\n",
              "      <td>0.642672</td>\n",
              "      <td>-0.193784</td>\n",
              "      <td>0.505981</td>\n",
              "      <td>1.000000</td>\n",
              "      <td>-0.146471</td>\n",
              "    </tr>\n",
              "    <tr>\n",
              "      <th>Choveu?</th>\n",
              "      <td>-0.012409</td>\n",
              "      <td>0.155332</td>\n",
              "      <td>-0.138883</td>\n",
              "      <td>0.510326</td>\n",
              "      <td>0.013800</td>\n",
              "      <td>-0.146471</td>\n",
              "      <td>1.000000</td>\n",
              "    </tr>\n",
              "  </tbody>\n",
              "</table>\n",
              "</div>"
            ],
            "text/plain": [
              "                             Temperatura Media (C)  ...   Choveu?\n",
              "Temperatura Media (C)                     1.000000  ... -0.012409\n",
              "Temperatura Minima (C)                    0.862752  ...  0.155332\n",
              "Temperatura Maxima (C)                    0.922513  ... -0.138883\n",
              "Precipitacao (mm)                         0.024416  ...  0.510326\n",
              "Final de Semana                          -0.050803  ...  0.013800\n",
              "Consumo de cerveja (litros)               0.574615  ... -0.146471\n",
              "Choveu?                                  -0.012409  ...  1.000000\n",
              "\n",
              "[7 rows x 7 columns]"
            ]
          },
          "metadata": {
            "tags": []
          },
          "execution_count": 10
        }
      ]
    },
    {
      "cell_type": "markdown",
      "metadata": {
        "id": "xUol1JlEd2zK",
        "colab_type": "text"
      },
      "source": [
        "Por meio dessa tabela de correlação é possível perceber que a variável a qual tem a correlação mais forte com o Consumo de cerveja (litros) é a Temperatura Máxima (C). Mas pode-se perceber também que as variáveis de temperatura têm uma correlação alta entre elas, fator que pode afetar no modelo, pois recomenda-se que as variáveis não tenham forte correlação entre elas, somente com a variável dependente (y)."
      ]
    },
    {
      "cell_type": "markdown",
      "metadata": {
        "id": "H9t5bLZHxOzm",
        "colab_type": "text"
      },
      "source": [
        "# Verificando a relação de consumo de cerveja com a temperatura está média por meio de um gráfico de dispersão:"
      ]
    },
    {
      "cell_type": "code",
      "metadata": {
        "id": "gi7qzMVYArsy",
        "colab_type": "code",
        "outputId": "ed82cbd4-8347-4522-876c-05dde301d38f",
        "colab": {
          "base_uri": "https://localhost:8080/",
          "height": 385
        }
      },
      "source": [
        "sns.lmplot(x = \"Temperatura Media (C)\", y = \"Consumo de cerveja (litros)\", data = df)\n",
        "plt.title(\"Gráfico de dispersão da relação do Consumo de Cerveja e Temperaturas Médias\")\n",
        "plt.show()"
      ],
      "execution_count": 0,
      "outputs": [
        {
          "output_type": "display_data",
          "data": {
            "image/png": "[encoded data removed]",
            "text/plain": [
              "<Figure size 360x360 with 1 Axes>"
            ]
          },
          "metadata": {
            "tags": [],
            "needs_background": "light"
          }
        }
      ]
    },
    {
      "cell_type": "markdown",
      "metadata": {
        "id": "M9V7Z8Y51lsD",
        "colab_type": "text"
      },
      "source": [
        "Conforme verificado pelo coeficiente de correlação, a relação entre o consumo de cerveja e a temperatura média é positiva, ou seja, conforme a temperatura média aumenta, o consumo de cerveja também aumenta. O coeficiente foi de 0.57, podendo ser considerada uma correlação moderada. "
      ]
    },
    {
      "cell_type": "markdown",
      "metadata": {
        "id": "UvDpQgmMxjqE",
        "colab_type": "text"
      },
      "source": [
        "# E quando a temperatura está máxima? "
      ]
    },
    {
      "cell_type": "code",
      "metadata": {
        "id": "0OMjd-iM2KlV",
        "colab_type": "code",
        "outputId": "52efc755-4114-4aea-ec6d-5b6406758502",
        "colab": {
          "base_uri": "https://localhost:8080/",
          "height": 385
        }
      },
      "source": [
        "sns.lmplot(x = \"Temperatura Maxima (C)\", y = \"Consumo de cerveja (litros)\", data = df)\n",
        "plt.title(\"Gráfico de dispersão da relação do Consumo de Cerveja e Temperaturas Máximas\")\n",
        "plt.show()"
      ],
      "execution_count": 0,
      "outputs": [
        {
          "output_type": "display_data",
          "data": {
            "image/png": "[encoded data removed]",
            "text/plain": [
              "<Figure size 360x360 with 1 Axes>"
            ]
          },
          "metadata": {
            "tags": [],
            "needs_background": "light"
          }
        }
      ]
    },
    {
      "cell_type": "markdown",
      "metadata": {
        "id": "SyBB6cim2rvd",
        "colab_type": "text"
      },
      "source": [
        "Aqui a relação também é positiva, conforme a temperatura máxima aumenta, o consumo de cerveja também aumenta. Além disso, o coeficiente de correlação foi de 0.64, podendo ser considerada uma correlação moderada entre as variáveis."
      ]
    },
    {
      "cell_type": "markdown",
      "metadata": {
        "id": "eCvYunysxzvk",
        "colab_type": "text"
      },
      "source": [
        "# Gráfico de correlação do consumo de ceveja quando a temperatura é mínima:"
      ]
    },
    {
      "cell_type": "code",
      "metadata": {
        "id": "bjGtp-lMGgEm",
        "colab_type": "code",
        "outputId": "b9c10f23-4f27-4046-94c5-1d08c4810e34",
        "colab": {
          "base_uri": "https://localhost:8080/",
          "height": 385
        }
      },
      "source": [
        "sns.lmplot(x = \"Temperatura Minima (C)\", y = \"Consumo de cerveja (litros)\", data = df)\n",
        "plt.title(\"Gráfico de dispersão da relação do Consumo de Cerveja e Temperaturas Mínimas\")\n",
        "plt.show()"
      ],
      "execution_count": 0,
      "outputs": [
        {
          "output_type": "display_data",
          "data": {
            "image/png": "[encoded data removed]",
            "text/plain": [
              "<Figure size 360x360 with 1 Axes>"
            ]
          },
          "metadata": {
            "tags": [],
            "needs_background": "light"
          }
        }
      ]
    },
    {
      "cell_type": "markdown",
      "metadata": {
        "id": "xB9Hj-7K3RU5",
        "colab_type": "text"
      },
      "source": [
        "Apesar da relação entre as duas variáveis ser positiva, pode-se perceber que os dados estão bastante dispersos. O coeficiente de correlação dessas duas variáveis foi de 0.39, ou seja, apesar de ser uma relação positiva, trata-se de uma correlação baixa entre as variáveis. "
      ]
    },
    {
      "cell_type": "markdown",
      "metadata": {
        "id": "QJF0hAJb2d_s",
        "colab_type": "text"
      },
      "source": [
        "# **Aplicando o Modelo de Regressão Linear Múltipla**"
      ]
    },
    {
      "cell_type": "markdown",
      "metadata": {
        "id": "_Pbq2tNP3dif",
        "colab_type": "text"
      },
      "source": [
        "# Neste dataset decidiu-se por por aplicar o modelo de regressão linear múltipla, pois o objetivo é prever a variável resposta a partir de várias variáveis explicativas (vários x). Assim sendo, a variável resposta deste modelo é Consumo de cerveja (litros), ou seja, o objetivo é prever a quantidade de consumo de cerveja a partir das variáveis explicativas. Nesse modelo, decidiu-se por incluir todas variáveis explicativas. Portanto, abaixo será definido o x do modelo:"
      ]
    },
    {
      "cell_type": "code",
      "metadata": {
        "id": "NmrBrjeQKu9P",
        "colab_type": "code",
        "colab": {}
      },
      "source": [
        "x = df.drop('Consumo de cerveja (litros)',axis=1)"
      ],
      "execution_count": 0,
      "outputs": []
    },
    {
      "cell_type": "markdown",
      "metadata": {
        "id": "AAU0sPlY398q",
        "colab_type": "text"
      },
      "source": [
        "# Definindo o y do modelo:"
      ]
    },
    {
      "cell_type": "code",
      "metadata": {
        "id": "tyDbiVpeOG8j",
        "colab_type": "code",
        "colab": {}
      },
      "source": [
        "y = df['Consumo de cerveja (litros)']"
      ],
      "execution_count": 0,
      "outputs": []
    },
    {
      "cell_type": "markdown",
      "metadata": {
        "id": "4Yj8d9y14Dja",
        "colab_type": "text"
      },
      "source": [
        "# Dividindo o dataset em base de treino e de teste. 75% será para treino e 25% para teste:"
      ]
    },
    {
      "cell_type": "code",
      "metadata": {
        "id": "gNj9eMFbOQe2",
        "colab_type": "code",
        "colab": {}
      },
      "source": [
        "x_train, x_test, y_train, y_test = train_test_split (x,y,test_size=0.25,random_state=42)"
      ],
      "execution_count": 0,
      "outputs": []
    },
    {
      "cell_type": "markdown",
      "metadata": {
        "id": "2vM-vide4V-q",
        "colab_type": "text"
      },
      "source": [
        "# Verificando os shapes dos datasets de treino e teste."
      ]
    },
    {
      "cell_type": "code",
      "metadata": {
        "id": "pqgvV084OSnX",
        "colab_type": "code",
        "outputId": "7a9a1fe1-3550-4f09-8e54-018c7408a54d",
        "colab": {
          "base_uri": "https://localhost:8080/",
          "height": 54
        }
      },
      "source": [
        "print(x_train.shape, y_train.shape)\n",
        "\n",
        "print(x_test.shape, y_test.shape)"
      ],
      "execution_count": 0,
      "outputs": [
        {
          "output_type": "stream",
          "text": [
            "(273, 6) (273,)\n",
            "(92, 6) (92,)\n"
          ],
          "name": "stdout"
        }
      ]
    },
    {
      "cell_type": "markdown",
      "metadata": {
        "id": "Vi4QsJx94dtE",
        "colab_type": "text"
      },
      "source": [
        "# Treinando o Modelo de Regressão Linear Múltipla:"
      ]
    },
    {
      "cell_type": "code",
      "metadata": {
        "id": "ukSntoLiOXlj",
        "colab_type": "code",
        "outputId": "7560cb03-072c-4cb0-e19e-4f4a19049c71",
        "colab": {
          "base_uri": "https://localhost:8080/",
          "height": 54
        }
      },
      "source": [
        "lr = LinearRegression()\n",
        "lr.fit(x_train,y_train)\n",
        "lr.coef_"
      ],
      "execution_count": 0,
      "outputs": [
        {
          "output_type": "execute_result",
          "data": {
            "text/plain": [
              "array([ 0.18927666, -0.12450782,  0.58663292, -0.05800596,  5.16444987,\n",
              "        0.37681088])"
            ]
          },
          "metadata": {
            "tags": []
          },
          "execution_count": 16
        }
      ]
    },
    {
      "cell_type": "markdown",
      "metadata": {
        "id": "H6RqOw_O4nZF",
        "colab_type": "text"
      },
      "source": [
        "# Verificando os pesos das variáveis no modelo:"
      ]
    },
    {
      "cell_type": "code",
      "metadata": {
        "id": "DCNy0joJM4TG",
        "colab_type": "code",
        "outputId": "0cfb2c48-5af8-4fa6-daeb-ff0f17abfe8f",
        "colab": {
          "base_uri": "https://localhost:8080/",
          "height": 537
        }
      },
      "source": [
        "plt.figure(figsize=(15,9))\n",
        "sns.barplot(x = x_train.columns,y = lr.coef_)\n",
        "plt.show()"
      ],
      "execution_count": 0,
      "outputs": [
        {
          "output_type": "display_data",
          "data": {
            "image/png": "[encoded data removed]",
            "text/plain": [
              "<Figure size 1080x648 with 1 Axes>"
            ]
          },
          "metadata": {
            "tags": [],
            "needs_background": "light"
          }
        }
      ]
    },
    {
      "cell_type": "markdown",
      "metadata": {
        "id": "_e_FeHX14t25",
        "colab_type": "text"
      },
      "source": [
        "Pode-se perceber que a variável que tem o maior peso sobre a variável resposta é Final de Semana, ou seja, a variação entre dia de semana e final de semana influencia muito o consumo de cerveja. Além disso, as variáveis Temperatura Mínima (C) e Precipitação (mm) têm um peso negativo sobre a variável y."
      ]
    },
    {
      "cell_type": "markdown",
      "metadata": {
        "id": "l8-fx6OC5oQq",
        "colab_type": "text"
      },
      "source": [
        "# Verificando a Média dos Erros ao Quadrado:"
      ]
    },
    {
      "cell_type": "code",
      "metadata": {
        "id": "Fro-hg-SPl_X",
        "colab_type": "code",
        "outputId": "68d5dba9-a699-44f3-e7ad-857070f516bb",
        "colab": {
          "base_uri": "https://localhost:8080/",
          "height": 35
        }
      },
      "source": [
        "y_pred = lr.predict(x_test)\n",
        "\n",
        "mean_squared_error(y_test,y_pred)"
      ],
      "execution_count": 0,
      "outputs": [
        {
          "output_type": "execute_result",
          "data": {
            "text/plain": [
              "5.7536903080703015"
            ]
          },
          "metadata": {
            "tags": []
          },
          "execution_count": 17
        }
      ]
    },
    {
      "cell_type": "markdown",
      "metadata": {
        "id": "D9p1Mr-Z5xCG",
        "colab_type": "text"
      },
      "source": [
        "# Raiz quadrada aplicada à Média dos Erros ao Quadrado, para trazer a métrica para a mesma magnitude do eixo y."
      ]
    },
    {
      "cell_type": "code",
      "metadata": {
        "id": "7RcsR1Y3P5Fj",
        "colab_type": "code",
        "outputId": "2bb117bd-242e-44a6-c2ed-a5b2dce4f622",
        "colab": {
          "base_uri": "https://localhost:8080/",
          "height": 35
        }
      },
      "source": [
        "np.sqrt(mean_squared_error(y_test,y_pred))"
      ],
      "execution_count": 0,
      "outputs": [
        {
          "output_type": "execute_result",
          "data": {
            "text/plain": [
              "2.3986851206588793"
            ]
          },
          "metadata": {
            "tags": []
          },
          "execution_count": 18
        }
      ]
    },
    {
      "cell_type": "markdown",
      "metadata": {
        "id": "FYW-KItb8vHA",
        "colab_type": "text"
      },
      "source": [
        "Tendo em vista que a média do consumo de cerveja é de 25.40 litros, pode-se considerar que o erro é aceitável. O modelo está errando 2.39 litros para cima e para baixo."
      ]
    },
    {
      "cell_type": "markdown",
      "metadata": {
        "id": "RTQvX00p9Jhy",
        "colab_type": "text"
      },
      "source": [
        "# Verificando o coeficiente de determinação (R²) do modelo:"
      ]
    },
    {
      "cell_type": "code",
      "metadata": {
        "id": "mR1aP43EQfBd",
        "colab_type": "code",
        "outputId": "f4b17789-351a-4d73-f1a6-53de1ad879b7",
        "colab": {
          "base_uri": "https://localhost:8080/",
          "height": 35
        }
      },
      "source": [
        "lr.score(x_test,y_test)"
      ],
      "execution_count": 0,
      "outputs": [
        {
          "output_type": "execute_result",
          "data": {
            "text/plain": [
              "0.7446236565419468"
            ]
          },
          "metadata": {
            "tags": []
          },
          "execution_count": 19
        }
      ]
    },
    {
      "cell_type": "markdown",
      "metadata": {
        "id": "pmSpQsje9U6B",
        "colab_type": "text"
      },
      "source": [
        "Por meio do coeficiente de determinação, pode-se dizer que aproximadamente 74% do modelo explica o consumo de cerveja."
      ]
    },
    {
      "cell_type": "markdown",
      "metadata": {
        "id": "bIRm2GBwIM2I",
        "colab_type": "text"
      },
      "source": [
        "# Verificando o modelo no dataset de treino:"
      ]
    },
    {
      "cell_type": "code",
      "metadata": {
        "id": "JoA7aIsiRUqz",
        "colab_type": "code",
        "outputId": "7aa9c664-9221-4eef-e8ac-212ca5ef15bd",
        "colab": {
          "base_uri": "https://localhost:8080/",
          "height": 72
        }
      },
      "source": [
        "y_pred_train = lr.predict(x_train)\n",
        "print(mean_squared_error(y_train,y_pred_train))\n",
        "print(np.sqrt(mean_squared_error(y_train,y_pred_train)))\n",
        "print(lr.score(x_train,y_train))"
      ],
      "execution_count": 0,
      "outputs": [
        {
          "output_type": "stream",
          "text": [
            "5.233514969664926\n",
            "2.2876876905873593\n",
            "0.7085589493630273\n"
          ],
          "name": "stdout"
        }
      ]
    },
    {
      "cell_type": "markdown",
      "metadata": {
        "id": "y4GHoN-lQ_Rz",
        "colab_type": "text"
      },
      "source": [
        "Analisando o dataset de treino, pode-se perceber que o modelo explica 70% da variação do consumo de cerveja, o R² foi menor que no dataset de teste."
      ]
    },
    {
      "cell_type": "markdown",
      "metadata": {
        "id": "wA83wtvh74V4",
        "colab_type": "text"
      },
      "source": [
        "# Plotando os erros do modelo:"
      ]
    },
    {
      "cell_type": "code",
      "metadata": {
        "id": "p_X_44EM77h_",
        "colab_type": "code",
        "outputId": "025e4c17-6bcb-4de7-8294-2b0141040e38",
        "colab": {
          "base_uri": "https://localhost:8080/",
          "height": 374
        }
      },
      "source": [
        "def graficos(y, pred):\n",
        "    \n",
        "    plt.figure(figsize=(12, 6))\n",
        "\n",
        "    plt.plot(y,y)\n",
        "    plt.scatter(pred,y, c='r', marker='o')\n",
        "    plt.legend(['Real','Previsão'])\n",
        "    plt.grid(ls='-.', lw=0.2, c='k');\n",
        "\n",
        "graficos(y_test, y_pred)"
      ],
      "execution_count": 0,
      "outputs": [
        {
          "output_type": "display_data",
          "data": {
            "image/png": "[encoded data removed]",
            "text/plain": [
              "<Figure size 864x432 with 1 Axes>"
            ]
          },
          "metadata": {
            "tags": [],
            "needs_background": "light"
          }
        }
      ]
    },
    {
      "cell_type": "markdown",
      "metadata": {
        "id": "q5__HTtX-Xl3",
        "colab_type": "text"
      },
      "source": [
        "# Tendo em vista que a variável Temperatura Mínima (C) tem uma correlação alta com Temperatura Média (C), e que Precipitação (mm) tem uma correlação alta com a variável que verifica se choveu, decidiu-se por aplicar outro modelo neste dataset, desta vez excluindo as variáveis Temperatura Mínima (C), Temperatura Média (C) e Choveu?."
      ]
    },
    {
      "cell_type": "markdown",
      "metadata": {
        "id": "t-fyIa8R-_0k",
        "colab_type": "text"
      },
      "source": [
        "# Definindo o x do modelo:"
      ]
    },
    {
      "cell_type": "code",
      "metadata": {
        "id": "8-AdmreZ2UmQ",
        "colab_type": "code",
        "colab": {}
      },
      "source": [
        "x = df.drop(['Consumo de cerveja (litros)', 'Temperatura Media (C)', 'Temperatura Minima (C)','Choveu?'], axis=1)"
      ],
      "execution_count": 0,
      "outputs": []
    },
    {
      "cell_type": "markdown",
      "metadata": {
        "id": "D09TQfCL_GIQ",
        "colab_type": "text"
      },
      "source": [
        "# Definindo o y do modelo: "
      ]
    },
    {
      "cell_type": "code",
      "metadata": {
        "id": "cIyc1Xfm3veW",
        "colab_type": "code",
        "colab": {}
      },
      "source": [
        "y = df['Consumo de cerveja (litros)']"
      ],
      "execution_count": 0,
      "outputs": []
    },
    {
      "cell_type": "markdown",
      "metadata": {
        "id": "CZO4UMol_Ojb",
        "colab_type": "text"
      },
      "source": [
        "# Dividindo o dataset em treino e teste:"
      ]
    },
    {
      "cell_type": "code",
      "metadata": {
        "id": "RDl3Hcp54H5r",
        "colab_type": "code",
        "colab": {}
      },
      "source": [
        "x_train, x_test, y_train, y_test = train_test_split (x,y,test_size=0.25,random_state=42)"
      ],
      "execution_count": 0,
      "outputs": []
    },
    {
      "cell_type": "markdown",
      "metadata": {
        "id": "c2Al2YT6_UZn",
        "colab_type": "text"
      },
      "source": [
        "# Aplicando o Modelo de Regressão Linear Múltipla:"
      ]
    },
    {
      "cell_type": "code",
      "metadata": {
        "id": "K357rzUS4MnG",
        "colab_type": "code",
        "outputId": "bea5de5d-3c36-4195-c967-cb69006bf9be",
        "colab": {
          "base_uri": "https://localhost:8080/",
          "height": 35
        }
      },
      "source": [
        "lr = LinearRegression()\n",
        "lr.fit(x_train,y_train)\n",
        "lr.coef_"
      ],
      "execution_count": 0,
      "outputs": [
        {
          "output_type": "execute_result",
          "data": {
            "text/plain": [
              "array([ 0.65295463, -0.05081594,  5.18612642])"
            ]
          },
          "metadata": {
            "tags": []
          },
          "execution_count": 72
        }
      ]
    },
    {
      "cell_type": "markdown",
      "metadata": {
        "id": "Jybvl3ac_iC1",
        "colab_type": "text"
      },
      "source": [
        "# Verificando a Média dos Erros ao Quadrado:"
      ]
    },
    {
      "cell_type": "code",
      "metadata": {
        "id": "TDJCf6N94Xcv",
        "colab_type": "code",
        "outputId": "4b7d1bfe-5737-48bd-c0c3-0714236531ef",
        "colab": {
          "base_uri": "https://localhost:8080/",
          "height": 35
        }
      },
      "source": [
        "y_pred = lr.predict(x_test)\n",
        "\n",
        "mean_squared_error(y_test,y_pred)"
      ],
      "execution_count": 0,
      "outputs": [
        {
          "output_type": "execute_result",
          "data": {
            "text/plain": [
              "5.652562093305645"
            ]
          },
          "metadata": {
            "tags": []
          },
          "execution_count": 73
        }
      ]
    },
    {
      "cell_type": "markdown",
      "metadata": {
        "id": "spKb-HaX_vEY",
        "colab_type": "text"
      },
      "source": [
        "# Aplicando a raiz quadrada na Média dos Erros ao Quadrado:"
      ]
    },
    {
      "cell_type": "code",
      "metadata": {
        "id": "5CHEu1M-4fdt",
        "colab_type": "code",
        "outputId": "11af6ed6-c978-4a7d-89fe-8cca4d48ab01",
        "colab": {
          "base_uri": "https://localhost:8080/",
          "height": 35
        }
      },
      "source": [
        "np.sqrt(mean_squared_error(y_test,y_pred))"
      ],
      "execution_count": 0,
      "outputs": [
        {
          "output_type": "execute_result",
          "data": {
            "text/plain": [
              "2.377511744094158"
            ]
          },
          "metadata": {
            "tags": []
          },
          "execution_count": 68
        }
      ]
    },
    {
      "cell_type": "markdown",
      "metadata": {
        "id": "ywv-Ijy9_9u7",
        "colab_type": "text"
      },
      "source": [
        "Pode-se perceber que a diferença entre os dois modelos foi muito baixa, mesmo excluindo as variáveis que têm alta colinearidade."
      ]
    },
    {
      "cell_type": "markdown",
      "metadata": {
        "id": "hawbAbMYA1WX",
        "colab_type": "text"
      },
      "source": [
        "# Verificando o coeficiente de determinação do modelo:"
      ]
    },
    {
      "cell_type": "code",
      "metadata": {
        "id": "H8GHA5lB4keQ",
        "colab_type": "code",
        "outputId": "b79a56be-89c5-456f-f08a-1b20bcf02378",
        "colab": {
          "base_uri": "https://localhost:8080/",
          "height": 35
        }
      },
      "source": [
        "lr.score(x_test,y_test)"
      ],
      "execution_count": 0,
      "outputs": [
        {
          "output_type": "execute_result",
          "data": {
            "text/plain": [
              "0.749112211247579"
            ]
          },
          "metadata": {
            "tags": []
          },
          "execution_count": 74
        }
      ]
    },
    {
      "cell_type": "markdown",
      "metadata": {
        "id": "hBHCW0gxA8RQ",
        "colab_type": "text"
      },
      "source": [
        "Assim como o primeiro modelo, este explica, aproximadamente, 74% do consumo de cerveja."
      ]
    },
    {
      "cell_type": "code",
      "metadata": {
        "id": "lUS4tezz4qFS",
        "colab_type": "code",
        "outputId": "0a184690-c2d9-4886-ce1e-b8c00e95ccb7",
        "colab": {
          "base_uri": "https://localhost:8080/",
          "height": 72
        }
      },
      "source": [
        "## avaliação no treino\n",
        "\n",
        "y_pred_train = lr.predict(x_train)\n",
        "print(mean_squared_error(y_train,y_pred_train))\n",
        "print(np.sqrt(mean_squared_error(y_train,y_pred_train)))\n",
        "print(lr.score(x_train,y_train))"
      ],
      "execution_count": 0,
      "outputs": [
        {
          "output_type": "stream",
          "text": [
            "5.251882579170597\n",
            "2.2916986231113805\n",
            "0.7075361042115278\n"
          ],
          "name": "stdout"
        }
      ]
    },
    {
      "cell_type": "markdown",
      "metadata": {
        "id": "5-d8Jo7h8KLS",
        "colab_type": "text"
      },
      "source": [
        "# **Conclusões:**\n",
        "\n",
        "* Analisando o dataset, foi possível perceber que o consumo médio de cerveja é maior nos finais de semana. \n",
        "\n",
        "* Além disso, em dias que chovem o consumo médio de cerveja foi menor, tanto nos dias de semana quanto nos finais de semana. \n",
        "Precipitação (mm) tem uma relação linear negativa com a variável target, ou seja, quanto maior a precipitação, menor será o consumo de cerveja. \n",
        "\n",
        "* Ainda, por meio da tabela gerada das correlações entre as variáveis explicativas e a variável resposta, foi possível perceber que a correlação mais forte com a variável y – Consumo de Cerveja – foi a variável Temperatura Máxima. Porém, percebeu-se também que as variáveis de temperatura tinham uma correlação forte entre elas, e é importante mencionar que a colinearidade (alta correlação entre as variáveis explicativas) não é interessante para um modelo de regressão linear, pois ele pode ficar enviesado. \n",
        "\n",
        "* Ao aplicar o modelo de regressão linear múltipla, foi possível perceber que a variável que possuía maior peso dentro do modelo era a variável Final de Semana. \n",
        "\n",
        "* Decidiu-se por treinar o modelo duas vezes: na primeira considerando todas as variáveis explicativas e na segunda, desconsiderando as variáveis explicativas que possuíam alta colinearidade. Nos dois modelos, o erro foi muito próximo, de aproximadamente 2,39 litros para cima e para baixo. Vale mencionar que, em razão da média do consumo de cerveja ser de 25,4 litros, um erro de 2,39 é considerado baixo. \n",
        "\n",
        "* Por fim, é importante mencionar que nos dois modelos o coeficiente de determinação – coeficiente que informa o quanto que x está explicando a variação de y – foi de 74%, ou seja, os modelos explicam 74% da variação do consumo de cerveja.   \n"
      ]
    }
  ]
}